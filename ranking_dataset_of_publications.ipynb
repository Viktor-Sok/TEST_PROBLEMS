{
 "cells": [
  {
   "cell_type": "code",
   "execution_count": 2,
   "metadata": {},
   "outputs": [],
   "source": [
    "import pandas as pd\n",
    "import  numpy as np"
   ]
  },
  {
   "cell_type": "markdown",
   "metadata": {},
   "source": [
    "### Загрузка данных"
   ]
  },
  {
   "cell_type": "code",
   "execution_count": 3,
   "metadata": {},
   "outputs": [
    {
     "data": {
      "text/html": [
       "<div>\n",
       "<style scoped>\n",
       "    .dataframe tbody tr th:only-of-type {\n",
       "        vertical-align: middle;\n",
       "    }\n",
       "\n",
       "    .dataframe tbody tr th {\n",
       "        vertical-align: top;\n",
       "    }\n",
       "\n",
       "    .dataframe thead th {\n",
       "        text-align: right;\n",
       "    }\n",
       "</style>\n",
       "<table border=\"1\" class=\"dataframe\">\n",
       "  <thead>\n",
       "    <tr style=\"text-align: right;\">\n",
       "      <th></th>\n",
       "      <th>id</th>\n",
       "      <th>authour_name</th>\n",
       "      <th>title</th>\n",
       "      <th>address</th>\n",
       "      <th>issn</th>\n",
       "      <th>journal</th>\n",
       "      <th>year</th>\n",
       "    </tr>\n",
       "  </thead>\n",
       "  <tbody>\n",
       "    <tr>\n",
       "      <th>0</th>\n",
       "      <td>WOS:000209908400008</td>\n",
       "      <td>Tamosiunaite, Aurelija</td>\n",
       "      <td>Defining 'Lithuanian' Orthographic debates at ...</td>\n",
       "      <td>Vytautas Magnus Univ, Fac Humanities, Dept Lit...</td>\n",
       "      <td>1387-6732</td>\n",
       "      <td>WRITTEN LANGUAGE AND LITERACY</td>\n",
       "      <td>2015</td>\n",
       "    </tr>\n",
       "    <tr>\n",
       "      <th>1</th>\n",
       "      <td>WOS:000209919200006</td>\n",
       "      <td>Zhang, Hui Andy</td>\n",
       "      <td>RECOGNITION THROUGH REINVENTION: THE MYTH OF C...</td>\n",
       "      <td>Northwestern Univ, Evanston, IL 60208 USA.</td>\n",
       "      <td>2013-3294</td>\n",
       "      <td>452 F-REVISTA DE TEORIA DE LA LITERATURA Y LIT...</td>\n",
       "      <td>2015</td>\n",
       "    </tr>\n",
       "    <tr>\n",
       "      <th>2</th>\n",
       "      <td>WOS:000210161400001</td>\n",
       "      <td>Bortnik, Boris</td>\n",
       "      <td>Interdisciplinary project-based learning: tech...</td>\n",
       "      <td>Ural State Univ Econ, Ekaterinburg, Russia.</td>\n",
       "      <td>2156-7069</td>\n",
       "      <td>RESEARCH IN LEARNING TECHNOLOGY</td>\n",
       "      <td>2015</td>\n",
       "    </tr>\n",
       "    <tr>\n",
       "      <th>3</th>\n",
       "      <td>WOS:000210161400001</td>\n",
       "      <td>Mironova, Ludmila</td>\n",
       "      <td>Interdisciplinary project-based learning: tech...</td>\n",
       "      <td>Ural State Univ Econ, Ekaterinburg, Russia.</td>\n",
       "      <td>2156-7069</td>\n",
       "      <td>RESEARCH IN LEARNING TECHNOLOGY</td>\n",
       "      <td>2015</td>\n",
       "    </tr>\n",
       "    <tr>\n",
       "      <th>4</th>\n",
       "      <td>WOS:000210161400001</td>\n",
       "      <td>Podshivalova, Ekaterina</td>\n",
       "      <td>Interdisciplinary project-based learning: tech...</td>\n",
       "      <td>Ural State Univ Econ, Ekaterinburg, Russia.</td>\n",
       "      <td>2156-7069</td>\n",
       "      <td>RESEARCH IN LEARNING TECHNOLOGY</td>\n",
       "      <td>2015</td>\n",
       "    </tr>\n",
       "  </tbody>\n",
       "</table>\n",
       "</div>"
      ],
      "text/plain": [
       "                    id             authour_name  \\\n",
       "0  WOS:000209908400008   Tamosiunaite, Aurelija   \n",
       "1  WOS:000209919200006          Zhang, Hui Andy   \n",
       "2  WOS:000210161400001           Bortnik, Boris   \n",
       "3  WOS:000210161400001        Mironova, Ludmila   \n",
       "4  WOS:000210161400001  Podshivalova, Ekaterina   \n",
       "\n",
       "                                               title  \\\n",
       "0  Defining 'Lithuanian' Orthographic debates at ...   \n",
       "1  RECOGNITION THROUGH REINVENTION: THE MYTH OF C...   \n",
       "2  Interdisciplinary project-based learning: tech...   \n",
       "3  Interdisciplinary project-based learning: tech...   \n",
       "4  Interdisciplinary project-based learning: tech...   \n",
       "\n",
       "                                             address       issn  \\\n",
       "0  Vytautas Magnus Univ, Fac Humanities, Dept Lit...  1387-6732   \n",
       "1         Northwestern Univ, Evanston, IL 60208 USA.  2013-3294   \n",
       "2        Ural State Univ Econ, Ekaterinburg, Russia.  2156-7069   \n",
       "3        Ural State Univ Econ, Ekaterinburg, Russia.  2156-7069   \n",
       "4        Ural State Univ Econ, Ekaterinburg, Russia.  2156-7069   \n",
       "\n",
       "                                             journal  year  \n",
       "0                      WRITTEN LANGUAGE AND LITERACY  2015  \n",
       "1  452 F-REVISTA DE TEORIA DE LA LITERATURA Y LIT...  2015  \n",
       "2                    RESEARCH IN LEARNING TECHNOLOGY  2015  \n",
       "3                    RESEARCH IN LEARNING TECHNOLOGY  2015  \n",
       "4                    RESEARCH IN LEARNING TECHNOLOGY  2015  "
      ]
     },
     "execution_count": 3,
     "metadata": {},
     "output_type": "execute_result"
    }
   ],
   "source": [
    "df = pd.read_csv(\"ranking_dataset.csv\")\n",
    "df.head()"
   ]
  },
  {
   "cell_type": "code",
   "execution_count": 4,
   "metadata": {},
   "outputs": [
    {
     "data": {
      "text/plain": [
       "(21788, 7)"
      ]
     },
     "execution_count": 4,
     "metadata": {},
     "output_type": "execute_result"
    }
   ],
   "source": [
    "df.shape"
   ]
  },
  {
   "cell_type": "code",
   "execution_count": 5,
   "metadata": {
    "scrolled": true
   },
   "outputs": [
    {
     "name": "stdout",
     "output_type": "stream",
     "text": [
      "<class 'pandas.core.frame.DataFrame'>\n",
      "RangeIndex: 21788 entries, 0 to 21787\n",
      "Data columns (total 7 columns):\n",
      " #   Column        Non-Null Count  Dtype \n",
      "---  ------        --------------  ----- \n",
      " 0   id            21788 non-null  object\n",
      " 1   authour_name  21788 non-null  object\n",
      " 2   title         21788 non-null  object\n",
      " 3   address       21788 non-null  object\n",
      " 4   issn          21302 non-null  object\n",
      " 5   journal       21788 non-null  object\n",
      " 6   year          21788 non-null  int64 \n",
      "dtypes: int64(1), object(6)\n",
      "memory usage: 1.2+ MB\n"
     ]
    }
   ],
   "source": [
    "df.info()"
   ]
  },
  {
   "cell_type": "markdown",
   "metadata": {},
   "source": [
    "### Проверка данных на дубликаты, пропущенные/неверные значения"
   ]
  },
  {
   "cell_type": "code",
   "execution_count": 6,
   "metadata": {
    "scrolled": true
   },
   "outputs": [
    {
     "data": {
      "text/plain": [
       "id                0\n",
       "authour_name      0\n",
       "title             0\n",
       "address           0\n",
       "issn            486\n",
       "journal           0\n",
       "year              0\n",
       "dtype: int64"
      ]
     },
     "execution_count": 6,
     "metadata": {},
     "output_type": "execute_result"
    }
   ],
   "source": [
    "df.isnull().sum() # missing/NaN values for each column"
   ]
  },
  {
   "cell_type": "markdown",
   "metadata": {},
   "source": [
    "В issn имеюся пропущенные значения, но для необхдимых расчетов он не используется"
   ]
  },
  {
   "cell_type": "markdown",
   "metadata": {},
   "source": [
    "### Добавление столбцов org_name и  country выделением из стобца address"
   ]
  },
  {
   "cell_type": "code",
   "execution_count": 7,
   "metadata": {},
   "outputs": [],
   "source": [
    "org_name_list = []\n",
    "country_list = []\n",
    "for address in df['address'].values:\n",
    "    temp_list = address.split(', ')\n",
    "    org_name_list.append(temp_list[0]) # appends organization name\n",
    "    country_list.append(temp_list[-1][:-1]) # [:-1] removes the period '.' at the end of country name"
   ]
  },
  {
   "cell_type": "code",
   "execution_count": 8,
   "metadata": {},
   "outputs": [],
   "source": [
    "df['org_name'] = org_name_list\n",
    "df['country'] = country_list"
   ]
  },
  {
   "cell_type": "code",
   "execution_count": 9,
   "metadata": {
    "scrolled": true
   },
   "outputs": [
    {
     "data": {
      "text/html": [
       "<div>\n",
       "<style scoped>\n",
       "    .dataframe tbody tr th:only-of-type {\n",
       "        vertical-align: middle;\n",
       "    }\n",
       "\n",
       "    .dataframe tbody tr th {\n",
       "        vertical-align: top;\n",
       "    }\n",
       "\n",
       "    .dataframe thead th {\n",
       "        text-align: right;\n",
       "    }\n",
       "</style>\n",
       "<table border=\"1\" class=\"dataframe\">\n",
       "  <thead>\n",
       "    <tr style=\"text-align: right;\">\n",
       "      <th></th>\n",
       "      <th>id</th>\n",
       "      <th>authour_name</th>\n",
       "      <th>title</th>\n",
       "      <th>address</th>\n",
       "      <th>issn</th>\n",
       "      <th>journal</th>\n",
       "      <th>year</th>\n",
       "      <th>org_name</th>\n",
       "      <th>country</th>\n",
       "    </tr>\n",
       "  </thead>\n",
       "  <tbody>\n",
       "    <tr>\n",
       "      <th>0</th>\n",
       "      <td>WOS:000209908400008</td>\n",
       "      <td>Tamosiunaite, Aurelija</td>\n",
       "      <td>Defining 'Lithuanian' Orthographic debates at ...</td>\n",
       "      <td>Vytautas Magnus Univ, Fac Humanities, Dept Lit...</td>\n",
       "      <td>1387-6732</td>\n",
       "      <td>WRITTEN LANGUAGE AND LITERACY</td>\n",
       "      <td>2015</td>\n",
       "      <td>Vytautas Magnus Univ</td>\n",
       "      <td>Lithuania</td>\n",
       "    </tr>\n",
       "    <tr>\n",
       "      <th>1</th>\n",
       "      <td>WOS:000209919200006</td>\n",
       "      <td>Zhang, Hui Andy</td>\n",
       "      <td>RECOGNITION THROUGH REINVENTION: THE MYTH OF C...</td>\n",
       "      <td>Northwestern Univ, Evanston, IL 60208 USA.</td>\n",
       "      <td>2013-3294</td>\n",
       "      <td>452 F-REVISTA DE TEORIA DE LA LITERATURA Y LIT...</td>\n",
       "      <td>2015</td>\n",
       "      <td>Northwestern Univ</td>\n",
       "      <td>IL 60208 USA</td>\n",
       "    </tr>\n",
       "    <tr>\n",
       "      <th>2</th>\n",
       "      <td>WOS:000210161400001</td>\n",
       "      <td>Bortnik, Boris</td>\n",
       "      <td>Interdisciplinary project-based learning: tech...</td>\n",
       "      <td>Ural State Univ Econ, Ekaterinburg, Russia.</td>\n",
       "      <td>2156-7069</td>\n",
       "      <td>RESEARCH IN LEARNING TECHNOLOGY</td>\n",
       "      <td>2015</td>\n",
       "      <td>Ural State Univ Econ</td>\n",
       "      <td>Russia</td>\n",
       "    </tr>\n",
       "    <tr>\n",
       "      <th>3</th>\n",
       "      <td>WOS:000210161400001</td>\n",
       "      <td>Mironova, Ludmila</td>\n",
       "      <td>Interdisciplinary project-based learning: tech...</td>\n",
       "      <td>Ural State Univ Econ, Ekaterinburg, Russia.</td>\n",
       "      <td>2156-7069</td>\n",
       "      <td>RESEARCH IN LEARNING TECHNOLOGY</td>\n",
       "      <td>2015</td>\n",
       "      <td>Ural State Univ Econ</td>\n",
       "      <td>Russia</td>\n",
       "    </tr>\n",
       "    <tr>\n",
       "      <th>4</th>\n",
       "      <td>WOS:000210161400001</td>\n",
       "      <td>Podshivalova, Ekaterina</td>\n",
       "      <td>Interdisciplinary project-based learning: tech...</td>\n",
       "      <td>Ural State Univ Econ, Ekaterinburg, Russia.</td>\n",
       "      <td>2156-7069</td>\n",
       "      <td>RESEARCH IN LEARNING TECHNOLOGY</td>\n",
       "      <td>2015</td>\n",
       "      <td>Ural State Univ Econ</td>\n",
       "      <td>Russia</td>\n",
       "    </tr>\n",
       "  </tbody>\n",
       "</table>\n",
       "</div>"
      ],
      "text/plain": [
       "                    id             authour_name  \\\n",
       "0  WOS:000209908400008   Tamosiunaite, Aurelija   \n",
       "1  WOS:000209919200006          Zhang, Hui Andy   \n",
       "2  WOS:000210161400001           Bortnik, Boris   \n",
       "3  WOS:000210161400001        Mironova, Ludmila   \n",
       "4  WOS:000210161400001  Podshivalova, Ekaterina   \n",
       "\n",
       "                                               title  \\\n",
       "0  Defining 'Lithuanian' Orthographic debates at ...   \n",
       "1  RECOGNITION THROUGH REINVENTION: THE MYTH OF C...   \n",
       "2  Interdisciplinary project-based learning: tech...   \n",
       "3  Interdisciplinary project-based learning: tech...   \n",
       "4  Interdisciplinary project-based learning: tech...   \n",
       "\n",
       "                                             address       issn  \\\n",
       "0  Vytautas Magnus Univ, Fac Humanities, Dept Lit...  1387-6732   \n",
       "1         Northwestern Univ, Evanston, IL 60208 USA.  2013-3294   \n",
       "2        Ural State Univ Econ, Ekaterinburg, Russia.  2156-7069   \n",
       "3        Ural State Univ Econ, Ekaterinburg, Russia.  2156-7069   \n",
       "4        Ural State Univ Econ, Ekaterinburg, Russia.  2156-7069   \n",
       "\n",
       "                                             journal  year  \\\n",
       "0                      WRITTEN LANGUAGE AND LITERACY  2015   \n",
       "1  452 F-REVISTA DE TEORIA DE LA LITERATURA Y LIT...  2015   \n",
       "2                    RESEARCH IN LEARNING TECHNOLOGY  2015   \n",
       "3                    RESEARCH IN LEARNING TECHNOLOGY  2015   \n",
       "4                    RESEARCH IN LEARNING TECHNOLOGY  2015   \n",
       "\n",
       "               org_name       country  \n",
       "0  Vytautas Magnus Univ     Lithuania  \n",
       "1     Northwestern Univ  IL 60208 USA  \n",
       "2  Ural State Univ Econ        Russia  \n",
       "3  Ural State Univ Econ        Russia  \n",
       "4  Ural State Univ Econ        Russia  "
      ]
     },
     "execution_count": 9,
     "metadata": {},
     "output_type": "execute_result"
    }
   ],
   "source": [
    "df.head()"
   ]
  },
  {
   "cell_type": "markdown",
   "metadata": {},
   "source": [
    "### Количество публикаций в названии которых встречается Russia или Russian"
   ]
  },
  {
   "cell_type": "code",
   "execution_count": 10,
   "metadata": {
    "scrolled": true
   },
   "outputs": [
    {
     "data": {
      "text/plain": [
       "4859"
      ]
     },
     "execution_count": 10,
     "metadata": {},
     "output_type": "execute_result"
    }
   ],
   "source": [
    "boolean_pandas_series  = df['title'].drop_duplicates().str.lower().str.contains('russia|russian')\n",
    "boolean_pandas_series.values.sum()"
   ]
  },
  {
   "cell_type": "markdown",
   "metadata": {},
   "source": [
    "Функция drop_duplicates() убирает публикации с одним и тем же названием,\n",
    "lower() делает все буквы строчными (позволяя вместо случаев Russia, Russian, russian, RUSSIA, RUSSIAN \n",
    "рассматривать только russia и russian)"
   ]
  },
  {
   "cell_type": "markdown",
   "metadata": {},
   "source": [
    "### Cписок ТОП-20 организаций по количеству авторов с указанием их количества"
   ]
  },
  {
   "cell_type": "code",
   "execution_count": 11,
   "metadata": {},
   "outputs": [],
   "source": [
    "df1 = df[['authour_name', 'org_name']]\n",
    "grouped = df1.groupby('org_name')\n",
    "result_table_1 = grouped.aggregate({'authour_name': \"nunique\"}).reset_index() # takes into account only different authors\n",
    "result_table_1.rename(columns = {'authour_name' : 'number_of_authours'}, inplace = True)\n",
    "result_table_1.sort_values(by=['number_of_authours'], ascending = False, inplace= True)\n",
    "result_table_1.head(20).to_excel(\"Top_20_organizations_by_number_of_authors.xlsx\", index = False) "
   ]
  },
  {
   "cell_type": "markdown",
   "metadata": {},
   "source": [
    "### Cписок ТОП-20 авторов по количеству публикаций с указанием их количества"
   ]
  },
  {
   "cell_type": "code",
   "execution_count": 12,
   "metadata": {
    "scrolled": true
   },
   "outputs": [],
   "source": [
    "df2 = df[['id', 'authour_name']]\n",
    "result_table_2 = df2.groupby(['authour_name']).size().reset_index(name='number_of_publications')\n",
    "result_table_2.sort_values(by=['number_of_publications'], ascending = False, inplace= True)\n",
    "result_table_2.head(20).to_excel(\"Top_20_authors_by_number_of_publications.xlsx\", index = False) "
   ]
  },
  {
   "cell_type": "markdown",
   "metadata": {},
   "source": [
    "### Cписок ТОП-20 организаций по количеству публикаций с указанием их количества"
   ]
  },
  {
   "cell_type": "code",
   "execution_count": 13,
   "metadata": {},
   "outputs": [],
   "source": [
    "df3 = df[['id', 'org_name']]\n",
    "result_table_3 = df3.groupby(['org_name']).size().reset_index(name='number_of_publications')\n",
    "result_table_3.sort_values(by=['number_of_publications'], ascending = False, inplace= True)\n",
    "result_table_3.head(20).to_excel(\"Top_20_organizations_by_number_of_publications.xlsx\", index = False) "
   ]
  },
  {
   "cell_type": "markdown",
   "metadata": {},
   "source": [
    "### Cписок ТОП-20 журналов по количеству публикаций с указанием их количества"
   ]
  },
  {
   "cell_type": "code",
   "execution_count": 14,
   "metadata": {},
   "outputs": [],
   "source": [
    "df4 = df[['id', 'journal']]\n",
    "result_table_4 = df4.groupby(['journal']).size().reset_index(name='number_of_publications')\n",
    "result_table_4.sort_values(by=['number_of_publications'], ascending = False, inplace= True)\n",
    "result_table_4.head(20).to_excel(\"Top_20_journals_by_number_of_publications.xlsx\", index = False) "
   ]
  }
 ],
 "metadata": {
  "kernelspec": {
   "display_name": "Python 3.8.5 64-bit ('base': conda)",
   "language": "python",
   "name": "python385jvsc74a57bd0752c97cc6bc111c51b9bd047092464b0f155495a5f7c2778f8b038adb90cf9af"
  },
  "language_info": {
   "codemirror_mode": {
    "name": "ipython",
    "version": 3
   },
   "file_extension": ".py",
   "mimetype": "text/x-python",
   "name": "python",
   "nbconvert_exporter": "python",
   "pygments_lexer": "ipython3",
   "version": "3.8.5"
  }
 },
 "nbformat": 4,
 "nbformat_minor": 4
}
